{
  "nbformat": 4,
  "nbformat_minor": 0,
  "metadata": {
    "colab": {
      "name": "main.ipynb",
      "provenance": [],
      "collapsed_sections": [],
      "authorship_tag": "ABX9TyNWsChbSaWnGlkZpLuEf8dH",
      "include_colab_link": true
    },
    "kernelspec": {
      "name": "python3",
      "display_name": "Python 3"
    },
    "language_info": {
      "name": "python"
    }
  },
  "cells": [
    {
      "cell_type": "markdown",
      "metadata": {
        "id": "view-in-github",
        "colab_type": "text"
      },
      "source": [
        "<a href=\"https://colab.research.google.com/github/HinataKikuchi/Governor-of-Tokyo-Cup/blob/main/main.ipynb\" target=\"_parent\"><img src=\"https://colab.research.google.com/assets/colab-badge.svg\" alt=\"Open In Colab\"/></a>"
      ]
    },
    {
      "cell_type": "markdown",
      "metadata": {
        "id": "-st1OYLKKiDg"
      },
      "source": [
        "# [都知事杯 -- Open Data Hackathon](https://portal.data.metro.tokyo.lg.jp/hackathon/)\n",
        "\n",
        "## Member\n",
        "\n",
        "- [hyudai28](https://github.com/hyudai28)\n",
        "\n",
        "- [Hinata Kikuchi](https://github.com/HinataKikuchi)\n",
        "\n",
        "## Theme\n",
        "\n",
        "not decided, now we all in progress.\n"
      ]
    },
    {
      "cell_type": "code",
      "metadata": {
        "id": "pfnZ0lm9JX3J"
      },
      "source": [
        "import pandas as pd\n",
        "import requests\n",
        "import io\n",
        "\n",
        "URL = \"http://www.toshiseibi.metro.tokyo.jp/bosai/data/mokuzou2.csv\" # ここにcsvファイルのURLを書く\n",
        "r = requests.get(URL)\n",
        "df = pd.read_csv(io.BytesIO(r.content),encoding='shift-jis',sep=\",\")"
      ],
      "execution_count": 4,
      "outputs": []
    },
    {
      "cell_type": "code",
      "metadata": {
        "colab": {
          "base_uri": "https://localhost:8080/",
          "height": 143
        },
        "id": "Ue1n4A5PKJP7",
        "outputId": "af7137c4-e847-4f3d-cb58-fff9502674f5"
      },
      "source": [
        "df.head(3)"
      ],
      "execution_count": 6,
      "outputs": [
        {
          "output_type": "execute_result",
          "data": {
            "text/html": [
              "<div>\n",
              "<style scoped>\n",
              "    .dataframe tbody tr th:only-of-type {\n",
              "        vertical-align: middle;\n",
              "    }\n",
              "\n",
              "    .dataframe tbody tr th {\n",
              "        vertical-align: top;\n",
              "    }\n",
              "\n",
              "    .dataframe thead th {\n",
              "        text-align: right;\n",
              "    }\n",
              "</style>\n",
              "<table border=\"1\" class=\"dataframe\">\n",
              "  <thead>\n",
              "    <tr style=\"text-align: right;\">\n",
              "      <th></th>\n",
              "      <th>区</th>\n",
              "      <th>番号</th>\n",
              "      <th>地区名</th>\n",
              "      <th>面積(ha)</th>\n",
              "      <th>事業期間</th>\n",
              "    </tr>\n",
              "  </thead>\n",
              "  <tbody>\n",
              "    <tr>\n",
              "      <th>0</th>\n",
              "      <td>新宿区</td>\n",
              "      <td>1</td>\n",
              "      <td>若葉・須賀町</td>\n",
              "      <td>15.6</td>\n",
              "      <td>平成5年度〜令和6年度</td>\n",
              "    </tr>\n",
              "    <tr>\n",
              "      <th>1</th>\n",
              "      <td>台東区</td>\n",
              "      <td>2</td>\n",
              "      <td>谷中二・三・五丁目</td>\n",
              "      <td>28.7</td>\n",
              "      <td>平成14年度〜令和7年度</td>\n",
              "    </tr>\n",
              "    <tr>\n",
              "      <th>2</th>\n",
              "      <td>墨田区</td>\n",
              "      <td>3</td>\n",
              "      <td>北部中央</td>\n",
              "      <td>184.5</td>\n",
              "      <td>昭和59年度〜令和7年度</td>\n",
              "    </tr>\n",
              "  </tbody>\n",
              "</table>\n",
              "</div>"
            ],
            "text/plain": [
              "     区  番号        地区名  面積(ha)          事業期間\n",
              "0  新宿区   1     若葉・須賀町    15.6   平成5年度〜令和6年度\n",
              "1  台東区   2  谷中二・三・五丁目    28.7  平成14年度〜令和7年度\n",
              "2  墨田区   3       北部中央   184.5  昭和59年度〜令和7年度"
            ]
          },
          "metadata": {},
          "execution_count": 6
        }
      ]
    },
    {
      "cell_type": "code",
      "metadata": {
        "colab": {
          "base_uri": "https://localhost:8080/",
          "height": 283
        },
        "id": "-n7aSrG1Kg0B",
        "outputId": "436d89f1-df51-4016-8832-ec3b9df5c540"
      },
      "source": [
        "df['面積(ha)'].plot()"
      ],
      "execution_count": 7,
      "outputs": [
        {
          "output_type": "execute_result",
          "data": {
            "text/plain": [
              "<matplotlib.axes._subplots.AxesSubplot at 0x7f939dcbac50>"
            ]
          },
          "metadata": {},
          "execution_count": 7
        },
        {
          "output_type": "display_data",
          "data": {
            "image/png": "[encoded data removed]",
            "text/plain": [
              "<Figure size 432x288 with 1 Axes>"
            ]
          },
          "metadata": {
            "needs_background": "light"
          }
        }
      ]
    },
    {
      "cell_type": "code",
      "metadata": {
        "colab": {
          "base_uri": "https://localhost:8080/"
        },
        "id": "jcSEO62gLnh3",
        "outputId": "8e0eebb9-bf6f-4a2e-d3a3-2488041d9d80"
      },
      "source": [
        ""
      ],
      "execution_count": 10,
      "outputs": [
        {
          "output_type": "stream",
          "name": "stdout",
          "text": [
            "/content\n"
          ]
        }
      ]
    }
  ]
}